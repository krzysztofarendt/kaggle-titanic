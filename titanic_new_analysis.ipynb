{
 "cells": [
  {
   "cell_type": "code",
   "execution_count": null,
   "metadata": {
    "collapsed": true
   },
   "outputs": [],
   "source": [
    "%matplotlib notebook\n",
    "\n",
    "import os\n",
    "import re\n",
    "import pandas as pd\n",
    "import numpy as np\n",
    "import scipy\n",
    "from sklearn import linear_model\n",
    "from sklearn import tree\n",
    "from sklearn.ensemble import RandomForestClassifier\n",
    "from sklearn.preprocessing import PolynomialFeatures\n",
    "from sklearn.linear_model import LinearRegression\n",
    "from sklearn.pipeline import Pipeline\n",
    "from sklearn.model_selection import train_test_split\n",
    "from sklearn.model_selection import cross_val_score"
   ]
  },
  {
   "cell_type": "code",
   "execution_count": null,
   "metadata": {
    "scrolled": false
   },
   "outputs": [],
   "source": [
    "train = pd.read_csv('train.csv')\n",
    "test = pd.read_csv('test.csv')\n",
    "\n",
    "# Median age based on title\n",
    "# =========================\n",
    "full = train.append(test)\n",
    "\n",
    "# Extract titles from names and assign numerical values\n",
    "titles = set()\n",
    "names = full['Name'].values\n",
    "p = re.compile(r'[.,]')\n",
    "for n in names:\n",
    "    if '.' in n:\n",
    "        s = p.split(n)\n",
    "        s = [x.strip() + '.' for x in s]\n",
    "        titles.add(s[1])\n",
    "\n",
    "title_num = {t: n for t, n in zip(titles, range(len(titles)))}\n",
    "        \n",
    "def name_to_title(name):\n",
    "    for t in titles:\n",
    "        if t in name:\n",
    "            return t\n",
    "    return 'unknown'\n",
    "        \n",
    "full['Title'] = full['Name'].apply(name_to_title).astype('category')\n",
    "title_vs_age = full.groupby('Title').median()['Age'].to_dict()\n",
    "\n",
    "# Median fare based on Pclass\n",
    "# ===========================\n",
    "pclass_to_fare = full.groupby('Pclass').mean()['Fare'].to_dict()\n",
    "\n",
    "# Preprocess data frame\n",
    "# =====================\n",
    "def preprocess(df):\n",
    "    # Change sex to discrete numerical value (1 = male, 2 = female)\n",
    "    df['Sex'] = df['Sex'].apply(lambda x: 1 if x == 'male' else 2)\n",
    "\n",
    "    # Change embarkment location to discrete numerical (C = 1, Q = 2, S = 3, unkown = 0)\n",
    "    mapping = {np.nan: 0, 'C': 1, 'Q': 2, 'S': 3}\n",
    "    df['Embarked'] = df['Embarked'].apply(lambda x: mapping[x])\n",
    "\n",
    "    # Change names to numeric values representing titles\n",
    "    def name_to_title(name):\n",
    "        for t in titles:\n",
    "            if t in name:\n",
    "                return t\n",
    "        return 'unknown'\n",
    "\n",
    "    df['Title'] = df['Name'].apply(name_to_title)\n",
    "    df = df.drop('Name', axis=1)\n",
    "\n",
    "    # Drop ticket column\n",
    "    df = df.drop('Ticket', axis=1)\n",
    "    \n",
    "    # Drop cabin column (too many NaNs)\n",
    "    df = df.drop('Cabin', axis=1)\n",
    "    \n",
    "    # Predict NaN in Age\n",
    "    complete = df.dropna()\n",
    "    incomplete = df[df.isnull().any(axis=1)]\n",
    "    incomplete.loc[incomplete['Age'].isnull(), 'Age'] = incomplete['Title'].apply(lambda x: title_vs_age[x])\n",
    "    \n",
    "    # Predict NaN in Fare\n",
    "    incomplete.loc[incomplete['Fare'].isnull(), 'Fare'] = incomplete['Pclass'].apply(lambda x: pclass_to_fare[x])\n",
    "    \n",
    "    # Merge\n",
    "    df = complete.append(incomplete)\n",
    "    \n",
    "    # Create family column and delete SibSp and Parch\n",
    "    df['Family'] = df['SibSp'] + df['Parch']\n",
    "    df = df.drop(['SibSp', 'Parch'], axis=1)\n",
    "    \n",
    "    # Change title to number\n",
    "    df['Title'] = df['Title'].apply(lambda x: title_num[x])\n",
    "    \n",
    "    return df\n",
    "\n",
    "train = preprocess(train)\n",
    "train.head()"
   ]
  },
  {
   "cell_type": "code",
   "execution_count": null,
   "metadata": {
    "collapsed": true,
    "scrolled": false
   },
   "outputs": [],
   "source": [
    "# Prepare X, Y\n",
    "X = train.drop(['PassengerId', 'Survived'], axis=1)\n",
    "Y = train['Survived']\n",
    "\n",
    "# Decision tree\n",
    "clf = tree.DecisionTreeClassifier()\n",
    "clf = clf.fit(X, Y)\n",
    "train['Predict'] = clf.predict(X)"
   ]
  },
  {
   "cell_type": "code",
   "execution_count": null,
   "metadata": {},
   "outputs": [],
   "source": [
    "# Check on learning data\n",
    "check = train[['Survived', 'Predict']]\n",
    "train['OK'] = (train['Survived'] == train['Predict']).astype(int)\n",
    "ok = float(train['OK'].value_counts()[1])\n",
    "missed = float(train['OK'].value_counts()[0])\n",
    "\n",
    "print 'Percent misclassified: {:.2f}%'.format(100 * missed / (ok + missed))"
   ]
  },
  {
   "cell_type": "code",
   "execution_count": null,
   "metadata": {
    "collapsed": true,
    "scrolled": false
   },
   "outputs": [],
   "source": [
    "# Test\n",
    "X = preprocess(test).drop(['PassengerId'], axis=1)\n",
    "test['Survived'] = clf.predict(X)\n",
    "test[['PassengerId', 'Survived']].to_csv('submission.csv', index=False)"
   ]
  },
  {
   "cell_type": "markdown",
   "metadata": {},
   "source": [
    "**TODO:**\n",
    "\n",
    "- add cross-validation\n",
    "- compare different classifiers"
   ]
  },
  {
   "cell_type": "code",
   "execution_count": null,
   "metadata": {
    "collapsed": true
   },
   "outputs": [],
   "source": []
  }
 ],
 "metadata": {
  "kernelspec": {
   "display_name": "Python 2",
   "language": "python",
   "name": "python2"
  },
  "language_info": {
   "codemirror_mode": {
    "name": "ipython",
    "version": 2
   },
   "file_extension": ".py",
   "mimetype": "text/x-python",
   "name": "python",
   "nbconvert_exporter": "python",
   "pygments_lexer": "ipython2",
   "version": "2.7.12"
  }
 },
 "nbformat": 4,
 "nbformat_minor": 2
}
